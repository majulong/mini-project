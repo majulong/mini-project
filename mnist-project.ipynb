{
  "nbformat": 4,
  "nbformat_minor": 0,
  "metadata": {
    "colab": {
      "name": "Untitled0.ipynb",
      "provenance": [],
      "authorship_tag": "ABX9TyPJPIVZ6pib9xUh9bxBD4NZ",
      "include_colab_link": true
    },
    "kernelspec": {
      "name": "python3",
      "display_name": "Python 3"
    }
  },
  "cells": [
    {
      "cell_type": "markdown",
      "metadata": {
        "id": "view-in-github",
        "colab_type": "text"
      },
      "source": [
        "<a href=\"https://colab.research.google.com/github/majulong/mini-project/blob/main/mnist-project.ipynb\" target=\"_parent\"><img src=\"https://colab.research.google.com/assets/colab-badge.svg\" alt=\"Open In Colab\"/></a>"
      ]
    },
    {
      "cell_type": "markdown",
      "metadata": {
        "id": "ryHlWTZICL5i"
      },
      "source": [
        "\r\n",
        "loading the dataset\r\n"
      ]
    },
    {
      "cell_type": "code",
      "metadata": {
        "id": "oodD1anwCKvb"
      },
      "source": [
        "from keras.datasets import mnist\r\n",
        "(train_images, train_labels),(test_images, test_labels) =mnist.load_data()"
      ],
      "execution_count": 23,
      "outputs": []
    },
    {
      "cell_type": "markdown",
      "metadata": {
        "id": "X1wGlIxHC2_p"
      },
      "source": [
        "\r\n",
        "\r\n",
        "getting the Dataset\r\n",
        "\r\n"
      ]
    },
    {
      "cell_type": "code",
      "metadata": {
        "colab": {
          "base_uri": "https://localhost:8080/"
        },
        "id": "cfNrn-x2C3XC",
        "outputId": "9e1c2b59-4697-4d91-d86d-32a00e1036ea"
      },
      "source": [
        "train_images.shape"
      ],
      "execution_count": 24,
      "outputs": [
        {
          "output_type": "execute_result",
          "data": {
            "text/plain": [
              "(60000, 28, 28)"
            ]
          },
          "metadata": {
            "tags": []
          },
          "execution_count": 24
        }
      ]
    },
    {
      "cell_type": "code",
      "metadata": {
        "colab": {
          "base_uri": "https://localhost:8080/",
          "height": 265
        },
        "id": "AJcmPIt6HiSZ",
        "outputId": "f1e8d27e-c7df-4949-f102-a6a14371108b"
      },
      "source": [
        "digit = train_images[150]\r\n",
        "# print(digit)\r\n",
        "import matplotlib.pyplot as plt\r\n",
        "# plt.imshow(digit, cmap=plt.cm.binary)\r\n",
        "# plt.show()\r\n",
        "\r\n",
        "plt.imshow(test_images[2], cmap = plt.cm.binary)\r\n",
        "plt.show()"
      ],
      "execution_count": 25,
      "outputs": [
        {
          "output_type": "display_data",
          "data": {
            "image/png": "[encoded data removed]",
            "text/plain": [
              "<Figure size 432x288 with 1 Axes>"
            ]
          },
          "metadata": {
            "tags": [],
            "needs_background": "light"
          }
        }
      ]
    },
    {
      "cell_type": "markdown",
      "metadata": {
        "id": "nnh8bdSVImdB"
      },
      "source": [
        "Converting the Images from 0-255 range to 0-1 range"
      ]
    },
    {
      "cell_type": "code",
      "metadata": {
        "id": "oyCa3v1SIqrK"
      },
      "source": [
        "train_images = train_images.reshape((60000, 28 * 28))\r\n",
        "train_images = train_images.astype('float32') / 255\r\n",
        "test_images = test_images.reshape((10000, 28 * 28))\r\n",
        "test_images = test_images.astype('float32') / 255"
      ],
      "execution_count": 27,
      "outputs": []
    },
    {
      "cell_type": "markdown",
      "metadata": {
        "id": "03KMPyv9IwTR"
      },
      "source": [
        "Creating and compiling the Network (or the Model)"
      ]
    },
    {
      "cell_type": "code",
      "metadata": {
        "id": "fE3f-haOI-El"
      },
      "source": [
        "from keras import models\r\n",
        "from keras import layers\r\n",
        "network = models.Sequential()\r\n",
        "network.add(layers.Dense(512, activation='relu', input_shape=(28 * 28,)))\r\n",
        "network.add(layers.Dense(10, activation='softmax'))\r\n",
        "network.compile(optimizer='rmsprop',\r\n",
        "loss='categorical_crossentropy',\r\n",
        "metrics=['accuracy'])"
      ],
      "execution_count": 28,
      "outputs": []
    },
    {
      "cell_type": "markdown",
      "metadata": {
        "id": "jlxLExMSJNFA"
      },
      "source": [
        "Converting the output in 0 to 9 form. For representing each digit\r\n",
        "For example, 5 is represented by 0,0,0,0,0,1,0,0,0,0\r\n",
        "\r\n"
      ]
    },
    {
      "cell_type": "code",
      "metadata": {
        "id": "6qm7VaqqJdpP"
      },
      "source": [
        "from keras.utils import to_categorical\r\n",
        "train_labels = to_categorical(train_labels)\r\n",
        "test_labels = to_categorical(test_labels)"
      ],
      "execution_count": 29,
      "outputs": []
    },
    {
      "cell_type": "markdown",
      "metadata": {
        "id": "2ht4G5atKZYb"
      },
      "source": [
        "Train the network by calling the fit() function"
      ]
    },
    {
      "cell_type": "code",
      "metadata": {
        "colab": {
          "base_uri": "https://localhost:8080/"
        },
        "id": "jruv7khsKcus",
        "outputId": "fef328da-4d5b-4652-f095-0026eca99167"
      },
      "source": [
        "network.fit(train_images, train_labels, epochs=5, batch_size=128)"
      ],
      "execution_count": 30,
      "outputs": [
        {
          "output_type": "stream",
          "text": [
            "Epoch 1/5\n",
            "469/469 [==============================] - 5s 10ms/step - loss: 1.9041 - accuracy: 0.5197\n",
            "Epoch 2/5\n",
            "469/469 [==============================] - 4s 9ms/step - loss: 0.6702 - accuracy: 0.8361\n",
            "Epoch 3/5\n",
            "469/469 [==============================] - 4s 9ms/step - loss: 0.4284 - accuracy: 0.8864\n",
            "Epoch 4/5\n",
            "469/469 [==============================] - 5s 10ms/step - loss: 0.3550 - accuracy: 0.9002\n",
            "Epoch 5/5\n",
            "469/469 [==============================] - 4s 9ms/step - loss: 0.3297 - accuracy: 0.9051\n"
          ],
          "name": "stdout"
        },
        {
          "output_type": "execute_result",
          "data": {
            "text/plain": [
              "<tensorflow.python.keras.callbacks.History at 0x7f866e6d4390>"
            ]
          },
          "metadata": {
            "tags": []
          },
          "execution_count": 30
        }
      ]
    },
    {
      "cell_type": "markdown",
      "metadata": {
        "id": "cuf0dp4EKc9w"
      },
      "source": [
        "Evaluate the network"
      ]
    },
    {
      "cell_type": "code",
      "metadata": {
        "colab": {
          "base_uri": "https://localhost:8080/"
        },
        "id": "ZqYRjNkrKdFk",
        "outputId": "8a30453c-fddd-40de-a0e6-630954dfe4c5"
      },
      "source": [
        "test_loss, test_acc = network.evaluate(test_images, test_labels)\r\n",
        "print(test_acc)"
      ],
      "execution_count": 31,
      "outputs": [
        {
          "output_type": "stream",
          "text": [
            "313/313 [==============================] - 1s 2ms/step - loss: 0.3011 - accuracy: 0.9132\n",
            "0.9132000207901001\n"
          ],
          "name": "stdout"
        }
      ]
    },
    {
      "cell_type": "markdown",
      "metadata": {
        "id": "7DhI1m8NKnB9"
      },
      "source": [
        "Prediction using our network"
      ]
    },
    {
      "cell_type": "code",
      "metadata": {
        "colab": {
          "base_uri": "https://localhost:8080/"
        },
        "id": "Ldv3YbcfKmrb",
        "outputId": "7475dac2-ed9c-4d66-86d5-3139e332cb5e"
      },
      "source": [
        "prediction = network.predict(test_images)\r\n",
        "import numpy as np\r\n",
        "np.argmax(prediction[0])"
      ],
      "execution_count": 34,
      "outputs": [
        {
          "output_type": "execute_result",
          "data": {
            "text/plain": [
              "7"
            ]
          },
          "metadata": {
            "tags": []
          },
          "execution_count": 34
        }
      ]
    },
    {
      "cell_type": "markdown",
      "metadata": {
        "id": "P6KEipjFLmDa"
      },
      "source": [
        "# New Section"
      ]
    }
  ]
}