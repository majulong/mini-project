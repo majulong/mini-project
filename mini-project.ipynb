{
  "nbformat": 4,
  "nbformat_minor": 0,
  "metadata": {
    "colab": {
      "name": "Copy of Untitled0.ipynb",
      "provenance": [],
      "authorship_tag": "ABX9TyNYeslmoohUvCmM7rTrBVmT",
      "include_colab_link": true
    },
    "kernelspec": {
      "name": "python3",
      "display_name": "Python 3"
    }
  },
  "cells": [
    {
      "cell_type": "markdown",
      "metadata": {
        "id": "view-in-github",
        "colab_type": "text"
      },
      "source": [
        "<a href=\"https://colab.research.google.com/github/majulong/mini-project/blob/main/mini-project.ipynb\" target=\"_parent\"><img src=\"https://colab.research.google.com/assets/colab-badge.svg\" alt=\"Open In Colab\"/></a>"
      ]
    },
    {
      "cell_type": "markdown",
      "metadata": {
        "id": "ryHlWTZICL5i"
      },
      "source": [
        "\r\n",
        "loading the dataset\r\n"
      ]
    },
    {
      "cell_type": "code",
      "metadata": {
        "id": "oodD1anwCKvb"
      },
      "source": [
        "from keras.datasets import mnist\r\n",
        "(train_images, train_labels),(test_images, test_labels) =mnist.load_data()"
      ],
      "execution_count": null,
      "outputs": []
    },
    {
      "cell_type": "markdown",
      "metadata": {
        "id": "X1wGlIxHC2_p"
      },
      "source": [
        "\r\n",
        "\r\n",
        "getting the Dataset\r\n",
        "\r\n"
      ]
    },
    {
      "cell_type": "code",
      "metadata": {
        "colab": {
          "base_uri": "https://localhost:8080/"
        },
        "id": "cfNrn-x2C3XC",
        "outputId": "9e1c2b59-4697-4d91-d86d-32a00e1036ea"
      },
      "source": [
        "train_images.shape"
      ],
      "execution_count": null,
      "outputs": [
        {
          "output_type": "execute_result",
          "data": {
            "text/plain": [
              "(60000, 28, 28)"
            ]
          },
          "metadata": {
            "tags": []
          },
          "execution_count": 24
        }
      ]
    },
    {
      "cell_type": "code",
      "metadata": {
        "id": "AJcmPIt6HiSZ"
      },
      "source": [
        "digit = train_images[150]\r\n",
        "# print(digit)\r\n",
        "import matplotlib.pyplot as plt\r\n",
        "# plt.imshow(digit, cmap=plt.cm.binary)\r\n",
        "# plt.show()\r\n",
        "\r\n",
        "plt.imshow(test_images[2], cmap = plt.cm.binary)\r\n",
        "plt.show()"
      ],
      "execution_count": null,
      "outputs": []
    },
    {
      "cell_type": "markdown",
      "metadata": {
        "id": "nnh8bdSVImdB"
      },
      "source": [
        "Converting the Images from 0-255 range to 0-1 range"
      ]
    },
    {
      "cell_type": "code",
      "metadata": {
        "id": "oyCa3v1SIqrK"
      },
      "source": [
        "train_images = train_images.reshape((60000, 28 * 28))\r\n",
        "train_images = train_images.astype('float32') / 255\r\n",
        "test_images = test_images.reshape((10000, 28 * 28))\r\n",
        "test_images = test_images.astype('float32') / 255"
      ],
      "execution_count": null,
      "outputs": []
    },
    {
      "cell_type": "markdown",
      "metadata": {
        "id": "03KMPyv9IwTR"
      },
      "source": [
        "Creating and compiling the Network (or the Model)"
      ]
    },
    {
      "cell_type": "code",
      "metadata": {
        "id": "fE3f-haOI-El"
      },
      "source": [
        "from keras import models\r\n",
        "from keras import layers\r\n",
        "network = models.Sequential()\r\n",
        "network.add(layers.Dense(512, activation='relu', input_shape=(28 * 28,))) #ReLU stands for rectified linear unit\r\n",
        "network.add(layers.Dense(10, activation='softmax'))  #softmax is a generalization of the logistic function to multiple dimensions\r\n",
        "network.compile(optimizer='rmsprop',\r\n",
        "loss='categorical_crossentropy',\r\n",
        "metrics=['accuracy'])"
      ],
      "execution_count": null,
      "outputs": []
    },
    {
      "cell_type": "markdown",
      "metadata": {
        "id": "jlxLExMSJNFA"
      },
      "source": [
        "Converting the output in 0 to 9 form. For representing each digit\r\n",
        "For example, 5 is represented by 0,0,0,0,0,1,0,0,0,0\r\n",
        "\r\n"
      ]
    },
    {
      "cell_type": "code",
      "metadata": {
        "id": "6qm7VaqqJdpP"
      },
      "source": [
        "from keras.utils import to_categorical\r\n",
        "train_labels = to_categorical(train_labels)\r\n",
        "test_labels = to_categorical(test_labels)"
      ],
      "execution_count": null,
      "outputs": []
    },
    {
      "cell_type": "markdown",
      "metadata": {
        "id": "2ht4G5atKZYb"
      },
      "source": [
        "Train the network by calling the fit() function"
      ]
    },
    {
      "cell_type": "code",
      "metadata": {
        "id": "jruv7khsKcus"
      },
      "source": [
        "network.fit(train_images, train_labels, epochs=5, batch_size=128)"
      ],
      "execution_count": null,
      "outputs": []
    },
    {
      "cell_type": "markdown",
      "metadata": {
        "id": "cuf0dp4EKc9w"
      },
      "source": [
        "Evaluate the network"
      ]
    },
    {
      "cell_type": "code",
      "metadata": {
        "id": "ZqYRjNkrKdFk"
      },
      "source": [
        "test_loss, test_acc = network.evaluate(test_images, test_labels)\r\n",
        "print(test_acc)"
      ],
      "execution_count": null,
      "outputs": []
    },
    {
      "cell_type": "markdown",
      "metadata": {
        "id": "7DhI1m8NKnB9"
      },
      "source": [
        "Prediction using our network"
      ]
    },
    {
      "cell_type": "code",
      "metadata": {
        "id": "Ldv3YbcfKmrb"
      },
      "source": [
        "prediction = network.predict(test_images)\r\n",
        "import numpy as np\r\n",
        "np.argmax(prediction[0])"
      ],
      "execution_count": null,
      "outputs": []
    }
  ]
}